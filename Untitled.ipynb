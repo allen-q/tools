{
 "cells": [
  {
   "cell_type": "code",
   "execution_count": 1,
   "metadata": {},
   "outputs": [],
   "source": [
    "from salt_func_lib import *"
   ]
  },
  {
   "cell_type": "code",
   "execution_count": 6,
   "metadata": {
    "scrolled": true
   },
   "outputs": [
    {
     "name": "stdout",
     "output_type": "stream",
     "text": [
      "File parts merged to aginity.exe successfully.\n"
     ]
    }
   ],
   "source": [
    "join_files('aginity_', './', 'aginity.exe')"
   ]
  },
  {
   "cell_type": "code",
   "execution_count": 7,
   "metadata": {},
   "outputs": [
    {
     "name": "stdout",
     "output_type": "stream",
     "text": [
      " Volume in drive C is OSDisk\n",
      " Volume Serial Number is CC27-60A6\n",
      "\n",
      " Directory of C:\\Users\\P768978\\Desktop\\work\\code\\study\\tools\n",
      "\n",
      "25/09/2018  01:44 PM    <DIR>          .\n",
      "25/09/2018  01:44 PM    <DIR>          ..\n",
      "25/09/2018  01:42 PM    <DIR>          .ipynb_checkpoints\n",
      "25/09/2018  01:42 PM    <DIR>          __pycache__\n",
      "25/09/2018  01:44 PM        14,999,856 aginity.exe\n",
      "25/09/2018  01:40 PM        10,000,000 aginity_-chunk-1-Of-2\n",
      "25/09/2018  01:40 PM         4,999,856 aginity_-chunk-2-Of-2\n",
      "25/09/2018  01:42 PM            30,389 salt_func_lib.py\n",
      "25/09/2018  01:42 PM                 0 SaltNet_2018_09_25_13h.log\n",
      "25/09/2018  01:44 PM             5,878 Untitled.ipynb\n",
      "25/09/2018  01:40 PM             1,604 wget-log\n",
      "               7 File(s)     30,037,583 bytes\n",
      "               4 Dir(s)   1,793,277,952 bytes free\n"
     ]
    }
   ],
   "source": [
    "ls"
   ]
  },
  {
   "cell_type": "code",
   "execution_count": 5,
   "metadata": {},
   "outputs": [],
   "source": [
    "def join_files(filePrefix, filePath, newFileName=None, returnFileObject=False, removeChunks=False):\n",
    "    noOfChunks = int(glob.glob(f'{filePath}/{filePrefix}*')[0].split('-')[-1])\n",
    "    dataList = []\n",
    "    j = 0\n",
    "    for i in range(0, noOfChunks, 1):\n",
    "        j += 1\n",
    "        chunkName = f\"{filePath}/{filePrefix}-chunk-{j}-Of-{noOfChunks}\"\n",
    "        f = open(chunkName, 'rb')\n",
    "        dataList.append(f.read())\n",
    "        f.close()\n",
    "        if removeChunks:\n",
    "            os.remove(chunkName)\n",
    "\n",
    "    if returnFileObject:\n",
    "        fileOut = BytesIO()\n",
    "        for data in dataList:\n",
    "            fileOut.write(data)\n",
    "        fileOut.seek(0)\n",
    "        return fileOut\n",
    "    else:\n",
    "        fileOut = open(newFileName, 'wb')\n",
    "        for data in dataList:\n",
    "            fileOut.write(data)\n",
    "        fileOut.close()\n",
    "        print(f'File parts merged to {newFileName} successfully.')"
   ]
  },
  {
   "cell_type": "code",
   "execution_count": null,
   "metadata": {},
   "outputs": [],
   "source": []
  }
 ],
 "metadata": {
  "kernelspec": {
   "display_name": "Python 3",
   "language": "python",
   "name": "python3"
  },
  "language_info": {
   "codemirror_mode": {
    "name": "ipython",
    "version": 3
   },
   "file_extension": ".py",
   "mimetype": "text/x-python",
   "name": "python",
   "nbconvert_exporter": "python",
   "pygments_lexer": "ipython3",
   "version": "3.6.2"
  },
  "toc": {
   "base_numbering": 1,
   "nav_menu": {},
   "number_sections": true,
   "sideBar": true,
   "skip_h1_title": false,
   "title_cell": "Table of Contents",
   "title_sidebar": "Contents",
   "toc_cell": false,
   "toc_position": {},
   "toc_section_display": true,
   "toc_window_display": false
  },
  "varInspector": {
   "cols": {
    "lenName": 16,
    "lenType": 16,
    "lenVar": 40
   },
   "kernels_config": {
    "python": {
     "delete_cmd_postfix": "",
     "delete_cmd_prefix": "del ",
     "library": "var_list.py",
     "varRefreshCmd": "print(var_dic_list())"
    },
    "r": {
     "delete_cmd_postfix": ") ",
     "delete_cmd_prefix": "rm(",
     "library": "var_list.r",
     "varRefreshCmd": "cat(var_dic_list()) "
    }
   },
   "types_to_exclude": [
    "module",
    "function",
    "builtin_function_or_method",
    "instance",
    "_Feature"
   ],
   "window_display": false
  }
 },
 "nbformat": 4,
 "nbformat_minor": 2
}
